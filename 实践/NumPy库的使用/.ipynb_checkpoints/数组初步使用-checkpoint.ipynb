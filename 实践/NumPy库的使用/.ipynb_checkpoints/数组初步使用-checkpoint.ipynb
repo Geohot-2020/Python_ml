{
 "cells": [
  {
   "cell_type": "code",
   "execution_count": 2,
   "metadata": {},
   "outputs": [
    {
     "name": "stdout",
     "output_type": "stream",
     "text": [
      "创建的数组为： [1 2 3 4]\n"
     ]
    }
   ],
   "source": [
    "#数组\n",
    "import numpy as np #导入 Numpy 库\n",
    "arr1 = np.array([1,2,3,4])\n",
    "print('创建的数组为：',arr1)"
   ]
  },
  {
   "cell_type": "code",
   "execution_count": 3,
   "metadata": {},
   "outputs": [
    {
     "name": "stdout",
     "output_type": "stream",
     "text": [
      "创建的数组为：\n",
      " [[ 1  2  3  4]\n",
      " [ 4  5  6  7]\n",
      " [ 7  8  9 10]]\n"
     ]
    }
   ],
   "source": [
    "#二维数组\n",
    "arr2 = np.array([[1,2,3,4],[4,5,6,7],[7,8,9,10]])\n",
    "print('创建的数组为：\\n',arr2)"
   ]
  },
  {
   "cell_type": "code",
   "execution_count": 12,
   "metadata": {},
   "outputs": [
    {
     "name": "stdout",
     "output_type": "stream",
     "text": [
      "数组维度为： (3, 4)\n"
     ]
    }
   ],
   "source": [
    "print('数组维度为：',arr2.shape)  #数组结构"
   ]
  },
  {
   "cell_type": "code",
   "execution_count": 13,
   "metadata": {},
   "outputs": [
    {
     "name": "stdout",
     "output_type": "stream",
     "text": [
      "数组类型为： int32\n"
     ]
    }
   ],
   "source": [
    "print('数组类型为：',arr2.dtype) #查看数组类型"
   ]
  },
  {
   "cell_type": "code",
   "execution_count": 14,
   "metadata": {},
   "outputs": [
    {
     "name": "stdout",
     "output_type": "stream",
     "text": [
      "数组元素个数： 12\n"
     ]
    }
   ],
   "source": [
    "print('数组元素个数：',arr2.size)"
   ]
  },
  {
   "cell_type": "code",
   "execution_count": 16,
   "metadata": {},
   "outputs": [
    {
     "name": "stdout",
     "output_type": "stream",
     "text": [
      "每个元素大小： 4\n"
     ]
    }
   ],
   "source": [
    "print('每个元素大小：',arr2.itemsize)"
   ]
  },
  {
   "cell_type": "code",
   "execution_count": 19,
   "metadata": {},
   "outputs": [
    {
     "name": "stdout",
     "output_type": "stream",
     "text": [
      "重新设置shape后的arr2为\n",
      " [[ 1  2  3]\n",
      " [ 4  4  5]\n",
      " [ 6  7  7]\n",
      " [ 8  9 10]]\n"
     ]
    }
   ],
   "source": [
    "#重置shape属性\n",
    "arr2.shape = 4,3\n",
    "print('重新设置shape后的arr2为\\n',arr2)"
   ]
  },
  {
   "cell_type": "code",
   "execution_count": 20,
   "metadata": {},
   "outputs": [
    {
     "name": "stdout",
     "output_type": "stream",
     "text": [
      " [ 0.   0.1  0.2  0.3  0.4  0.5  0.6  0.7  0.8  0.9]\n"
     ]
    }
   ],
   "source": [
    "#使用 range 函数创建等差数组\n",
    "#(头，尾，公差)\n",
    "print('',np.arange(0,1,0.1))"
   ]
  },
  {
   "cell_type": "code",
   "execution_count": 22,
   "metadata": {},
   "outputs": [
    {
     "name": "stdout",
     "output_type": "stream",
     "text": [
      " [ 0.          0.09090909  0.18181818  0.27272727  0.36363636  0.45454545\n",
      "  0.54545455  0.63636364  0.72727273  0.81818182  0.90909091  1.        ]\n"
     ]
    }
   ],
   "source": [
    "# 使用 linspace/logspace 函数创建等比数列数组\n",
    "#(头，尾，个数)\n",
    "print('',np.linspace(0,1,12))"
   ]
  },
  {
   "cell_type": "code",
   "execution_count": 26,
   "metadata": {},
   "outputs": [
    {
     "name": "stdout",
     "output_type": "stream",
     "text": [
      "[[ 0.  0.  0.]\n",
      " [ 0.  0.  0.]]\n"
     ]
    }
   ],
   "source": [
    "#使用 zero 函数创建全为0的数组\n",
    "print(np.zeros((2,3)))"
   ]
  },
  {
   "cell_type": "code",
   "execution_count": 27,
   "metadata": {},
   "outputs": [
    {
     "name": "stdout",
     "output_type": "stream",
     "text": [
      "[[ 1.  0.  0.]\n",
      " [ 0.  1.  0.]\n",
      " [ 0.  0.  1.]]\n"
     ]
    }
   ],
   "source": [
    "#使用 eye / diag函数创建的数组\n",
    "#除对角线外元素都为0\n",
    "print(np.eye(3))"
   ]
  },
  {
   "cell_type": "code",
   "execution_count": 29,
   "metadata": {},
   "outputs": [
    {
     "name": "stdout",
     "output_type": "stream",
     "text": [
      "[[ 1.  1.  1.]\n",
      " [ 1.  1.  1.]\n",
      " [ 1.  1.  1.]\n",
      " [ 1.  1.  1.]\n",
      " [ 1.  1.  1.]]\n"
     ]
    }
   ],
   "source": [
    "#使用 ones 函数创建数组\n",
    "print(np.ones((5,3)))"
   ]
  },
  {
   "cell_type": "code",
   "execution_count": 30,
   "metadata": {},
   "outputs": [
    {
     "name": "stdout",
     "output_type": "stream",
     "text": [
      "生成的随机数组为 [ 0.58013984  0.83050408  0.33132434  0.76911625  0.97576666  0.97196713\n",
      "  0.66011066  0.50360851  0.22378812  0.94331459  0.71529971  0.82373564\n",
      "  0.70231244  0.04370703  0.36012807  0.65834629  0.74532395  0.45483411\n",
      "  0.8273944   0.58346085  0.34279598  0.5159995   0.20190806  0.90988752\n",
      "  0.09225111  0.41344542  0.56510818  0.74956966  0.98269017  0.50421209\n",
      "  0.8175808   0.74591227  0.46314369  0.23110277  0.36945689  0.91438663\n",
      "  0.75775532  0.70221501  0.96979601  0.34188335  0.63980066  0.16449619\n",
      "  0.17222234  0.54026047  0.639841    0.60704452  0.80506502  0.87396994\n",
      "  0.16188583  0.0303184   0.27383231  0.14906868  0.98242921  0.69405775\n",
      "  0.17812657  0.53750851  0.14699729  0.89815226  0.66596917  0.57617598\n",
      "  0.42327916  0.74530757  0.38553879  0.15475785  0.34507253  0.49137294\n",
      "  0.89078959  0.97944579  0.28886714  0.87389207  0.09095529  0.91659909\n",
      "  0.80844732  0.30116192  0.12579261  0.93174063  0.78833205  0.88622985\n",
      "  0.70696333  0.32022404  0.01532409  0.62236814  0.56459834  0.83183977\n",
      "  0.94318619  0.5489583   0.20691451  0.13965737  0.88365239  0.32693498\n",
      "  0.22855062  0.40790255  0.21966902  0.24073266  0.06934283  0.4863422\n",
      "  0.76300362  0.37152242  0.33598854  0.78706009]\n"
     ]
    }
   ],
   "source": [
    "#生成随机数\n",
    "print('生成的随机数组为',np.random.random(100))"
   ]
  },
  {
   "cell_type": "code",
   "execution_count": 32,
   "metadata": {},
   "outputs": [
    {
     "name": "stdout",
     "output_type": "stream",
     "text": [
      "[[-0.50616883  1.08559969 -2.79163158  0.43004461  0.68728918]\n",
      " [-2.29514627 -0.52346205  0.20449904  0.73983668 -0.11653152]\n",
      " [ 0.47508788 -0.01464888  0.72057113 -0.18867898  1.43256011]\n",
      " [ 0.27242703 -0.12804465 -0.29478841  0.37824659  0.27593394]\n",
      " [-1.14692134  0.95669586  0.15995851  0.08116906  0.01887918]\n",
      " [-0.32859943 -0.18951421  0.35953577 -0.81166762  0.80794489]\n",
      " [-1.17909613 -1.84036931  2.26594004  1.03855276  1.00762758]\n",
      " [ 0.80934121 -0.44467366 -0.26213941  0.54003622 -0.06434653]\n",
      " [-0.72051541 -0.0181182   0.80087985  2.05874241 -0.1797017 ]\n",
      " [ 0.11910769  0.09894383  0.20015278 -2.73545065  0.71593682]]\n"
     ]
    }
   ],
   "source": [
    "#服从均匀分布\n",
    "print(np.random.randn(10,5))"
   ]
  },
  {
   "cell_type": "code",
   "execution_count": 33,
   "metadata": {},
   "outputs": [
    {
     "name": "stdout",
     "output_type": "stream",
     "text": [
      "[[7 4 7 2 4]\n",
      " [7 2 9 7 8]]\n"
     ]
    }
   ],
   "source": [
    "#生成限定上下限\n",
    "print(np.random.randint(2,10,size=[2,5]))"
   ]
  },
  {
   "cell_type": "code",
   "execution_count": 5,
   "metadata": {},
   "outputs": [
    {
     "name": "stdout",
     "output_type": "stream",
     "text": [
      "5\n",
      "[3 4]\n",
      "[0 1 2 3 4]\n"
     ]
    }
   ],
   "source": [
    "## 索引\n",
    "arr = np.arange(10)\n",
    "print(arr[5])\n",
    "print(arr[3:5])\n",
    "print(arr[:5])"
   ]
  },
  {
   "cell_type": "code",
   "execution_count": 7,
   "metadata": {},
   "outputs": [
    {
     "name": "stdout",
     "output_type": "stream",
     "text": [
      "创建的多维数组：\n",
      " [[ 1  2  3  4  5]\n",
      " [ 4  5  6  7  8]\n",
      " [ 7  8  9 10 11]]\n"
     ]
    }
   ],
   "source": [
    "# 多维数组\n",
    "arr = np.array([[1,2,3,4,5],[4,5,6,7,8],[7,8,9,10,11]])\n",
    "print('创建的多维数组：\\n',arr)"
   ]
  },
  {
   "cell_type": "code",
   "execution_count": 8,
   "metadata": {},
   "outputs": [
    {
     "name": "stdout",
     "output_type": "stream",
     "text": [
      "[4 5]\n"
     ]
    }
   ],
   "source": [
    "print(arr[0,3:5]) #第0行第三四列"
   ]
  },
  {
   "cell_type": "code",
   "execution_count": 9,
   "metadata": {},
   "outputs": [
    {
     "name": "stdout",
     "output_type": "stream",
     "text": [
      "[[ 6  7  8]\n",
      " [ 9 10 11]]\n"
     ]
    }
   ],
   "source": [
    "print(arr[1:,2:]) #第2、3行第3-5列元素"
   ]
  },
  {
   "cell_type": "code",
   "execution_count": 10,
   "metadata": {},
   "outputs": [
    {
     "name": "stdout",
     "output_type": "stream",
     "text": [
      "[3 6 9]\n"
     ]
    }
   ],
   "source": [
    "print(arr[:,2]) #第2列"
   ]
  },
  {
   "cell_type": "code",
   "execution_count": 11,
   "metadata": {},
   "outputs": [
    {
     "name": "stdout",
     "output_type": "stream",
     "text": [
      "[ 0  1  2  3  4  5  6  7  8  9 10 11]\n",
      "[[ 0  1  2  3]\n",
      " [ 4  5  6  7]\n",
      " [ 8  9 10 11]]\n"
     ]
    }
   ],
   "source": [
    "# 改变数组形状\n",
    "arr = np.arange(12)\n",
    "print(arr)\n",
    "print(arr.reshape(3,4))"
   ]
  },
  {
   "cell_type": "code",
   "execution_count": 14,
   "metadata": {},
   "outputs": [
    {
     "name": "stdout",
     "output_type": "stream",
     "text": [
      "[[ 0  1  2  3]\n",
      " [ 4  5  6  7]\n",
      " [ 8  9 10 11]]\n",
      "[ 0  1  2  3  4  5  6  7  8  9 10 11]\n"
     ]
    }
   ],
   "source": [
    "#展平: ravel或flatten\n",
    "arr = np.arange(12).reshape(3,4)\n",
    "print(arr)\n",
    "print(arr.ravel())"
   ]
  },
  {
   "cell_type": "code",
   "execution_count": 15,
   "metadata": {},
   "outputs": [
    {
     "name": "stdout",
     "output_type": "stream",
     "text": [
      "横向分割： [array([[0, 1],\n",
      "       [4, 5],\n",
      "       [8, 9]]), array([[ 2,  3],\n",
      "       [ 6,  7],\n",
      "       [10, 11]])]\n"
     ]
    }
   ],
   "source": [
    "#split函数分割\n",
    "print('横向分割：',np.split(arr,2,axis=1))"
   ]
  },
  {
   "cell_type": "code",
   "execution_count": 20,
   "metadata": {},
   "outputs": [
    {
     "ename": "ValueError",
     "evalue": "array split does not result in an equal division",
     "output_type": "error",
     "traceback": [
      "\u001b[1;31m---------------------------------------------------------------------------\u001b[0m",
      "\u001b[1;31mTypeError\u001b[0m                                 Traceback (most recent call last)",
      "\u001b[1;32mD:\\ProgramData\\Anaconda3\\lib\\site-packages\\numpy\\lib\\shape_base.py\u001b[0m in \u001b[0;36msplit\u001b[1;34m(ary, indices_or_sections, axis)\u001b[0m\n\u001b[0;32m    501\u001b[0m     \u001b[1;32mtry\u001b[0m\u001b[1;33m:\u001b[0m\u001b[1;33m\u001b[0m\u001b[0m\n\u001b[1;32m--> 502\u001b[1;33m         \u001b[0mlen\u001b[0m\u001b[1;33m(\u001b[0m\u001b[0mindices_or_sections\u001b[0m\u001b[1;33m)\u001b[0m\u001b[1;33m\u001b[0m\u001b[0m\n\u001b[0m\u001b[0;32m    503\u001b[0m     \u001b[1;32mexcept\u001b[0m \u001b[0mTypeError\u001b[0m\u001b[1;33m:\u001b[0m\u001b[1;33m\u001b[0m\u001b[0m\n",
      "\u001b[1;31mTypeError\u001b[0m: object of type 'int' has no len()",
      "\nDuring handling of the above exception, another exception occurred:\n",
      "\u001b[1;31mValueError\u001b[0m                                Traceback (most recent call last)",
      "\u001b[1;32m<ipython-input-20-b5c517f0f033>\u001b[0m in \u001b[0;36m<module>\u001b[1;34m()\u001b[0m\n\u001b[1;32m----> 1\u001b[1;33m \u001b[0mprint\u001b[0m\u001b[1;33m(\u001b[0m\u001b[1;34m'纵向分割：'\u001b[0m\u001b[1;33m,\u001b[0m\u001b[0mnp\u001b[0m\u001b[1;33m.\u001b[0m\u001b[0msplit\u001b[0m\u001b[1;33m(\u001b[0m\u001b[0marr\u001b[0m\u001b[1;33m,\u001b[0m\u001b[1;36m2\u001b[0m\u001b[1;33m,\u001b[0m\u001b[0maxis\u001b[0m\u001b[1;33m=\u001b[0m\u001b[1;36m0\u001b[0m\u001b[1;33m)\u001b[0m\u001b[1;33m)\u001b[0m\u001b[1;33m\u001b[0m\u001b[0m\n\u001b[0m",
      "\u001b[1;32mD:\\ProgramData\\Anaconda3\\lib\\site-packages\\numpy\\lib\\shape_base.py\u001b[0m in \u001b[0;36msplit\u001b[1;34m(ary, indices_or_sections, axis)\u001b[0m\n\u001b[0;32m    506\u001b[0m         \u001b[1;32mif\u001b[0m \u001b[0mN\u001b[0m \u001b[1;33m%\u001b[0m \u001b[0msections\u001b[0m\u001b[1;33m:\u001b[0m\u001b[1;33m\u001b[0m\u001b[0m\n\u001b[0;32m    507\u001b[0m             raise ValueError(\n\u001b[1;32m--> 508\u001b[1;33m                 'array split does not result in an equal division')\n\u001b[0m\u001b[0;32m    509\u001b[0m     \u001b[0mres\u001b[0m \u001b[1;33m=\u001b[0m \u001b[0marray_split\u001b[0m\u001b[1;33m(\u001b[0m\u001b[0mary\u001b[0m\u001b[1;33m,\u001b[0m \u001b[0mindices_or_sections\u001b[0m\u001b[1;33m,\u001b[0m \u001b[0maxis\u001b[0m\u001b[1;33m)\u001b[0m\u001b[1;33m\u001b[0m\u001b[0m\n\u001b[0;32m    510\u001b[0m     \u001b[1;32mreturn\u001b[0m \u001b[0mres\u001b[0m\u001b[1;33m\u001b[0m\u001b[0m\n",
      "\u001b[1;31mValueError\u001b[0m: array split does not result in an equal division"
     ]
    }
   ],
   "source": [
    "print('纵向分割：',np.split(arr,2,axis=0))"
   ]
  },
  {
   "cell_type": "code",
   "execution_count": null,
   "metadata": {
    "collapsed": true
   },
   "outputs": [],
   "source": []
  }
 ],
 "metadata": {
  "kernelspec": {
   "display_name": "Python 3",
   "language": "python",
   "name": "python3"
  }
 },
 "nbformat": 4,
 "nbformat_minor": 2
}
